{
 "cells": [
  {
   "cell_type": "code",
   "execution_count": 24,
   "id": "4eca579a",
   "metadata": {},
   "outputs": [],
   "source": [
    "from mpl_finance import candlestick_ohlc\n",
    "import matplotlib.dates as mpl_dates\n",
    "import math\n",
    "from IPython.display import clear_output"
   ]
  },
  {
   "cell_type": "code",
   "execution_count": 469,
   "id": "9e8e8b12",
   "metadata": {},
   "outputs": [
    {
     "ename": "ModuleNotFoundError",
     "evalue": "No module named 'tqdm'",
     "output_type": "error",
     "traceback": [
      "\u001b[1;31m---------------------------------------------------------------------------\u001b[0m",
      "\u001b[1;31mModuleNotFoundError\u001b[0m                       Traceback (most recent call last)",
      "Input \u001b[1;32mIn [469]\u001b[0m, in \u001b[0;36m<cell line: 1>\u001b[1;34m()\u001b[0m\n\u001b[1;32m----> 1\u001b[0m \u001b[38;5;28;01mimport\u001b[39;00m \u001b[38;5;21;01mtqdm\u001b[39;00m\n",
      "\u001b[1;31mModuleNotFoundError\u001b[0m: No module named 'tqdm'"
     ]
    }
   ],
   "source": [
    "import tqdm"
   ]
  },
  {
   "cell_type": "code",
   "execution_count": 25,
   "id": "af344281",
   "metadata": {},
   "outputs": [],
   "source": [
    "import warnings\n",
    "warnings.simplefilter(action='ignore', category=FutureWarning)\n",
    "import numpy as np\n",
    "import pandas as pd\n",
    "import matplotlib.pyplot as plt\n",
    "%matplotlib inline\n",
    "pd.options.mode.chained_assignment = None"
   ]
  },
  {
   "cell_type": "code",
   "execution_count": 30,
   "id": "1f528343",
   "metadata": {},
   "outputs": [],
   "source": [
    "times=[]\n",
    "with open('timelist.txt', 'r') as fp:\n",
    "    for line in fp:\n",
    "        times.append(line[:-1])\n",
    "\n",
    "nodates=[]\n",
    "with open('nodatelist.txt', 'r') as fp:\n",
    "    for line in fp:\n",
    "        nodates.append(line[:-1])"
   ]
  },
  {
   "cell_type": "code",
   "execution_count": 415,
   "id": "38af8400",
   "metadata": {},
   "outputs": [],
   "source": [
    "bnifty = pd.read_csv('banknifty_master.csv',low_memory=False,header=None,on_bad_lines='skip',names=[\"Strike\", \"Date\", \"Time\", \"Open\",\"High\",\"Low\",\"Close\",\"Volume\"])\n",
    "bnifty = bnifty[bnifty['Time'].isin(times)]\n",
    "bnifty = bnifty[(bnifty.Date >= '2018/05/02') & (bnifty.Date <= '2020/02/14')]\n",
    "bnifty = bnifty[~bnifty['Date'].isin(nodates)]\n",
    "bnifty.reset_index(inplace=True)\n",
    "bnifty.drop('index',axis=1,inplace=True)\n",
    "bniftyeod = pd.read_csv('BNF_2018_2020_EOD.csv')[::-1]\n",
    "bniftyeod['Date'] = pd.to_datetime(bniftyeod.Date)\n",
    "bniftyeod['Date'] = bniftyeod['Date'].astype(str)\n",
    "bniftyeod['Date'] = bniftyeod['Date'].apply(lambda line:line.replace('-', '/'))\n",
    "bniftyeod = bniftyeod[~bniftyeod['Date'].isin(nodates)]\n",
    "bniftyeod.reset_index(inplace=True)\n",
    "bniftyeod.drop('index',axis=1,inplace=True)\n",
    "bniftyu = pd.read_csv('BNF_2010_2020.csv',low_memory=False,on_bad_lines='skip')\n",
    "bniftyu = bniftyu[(bniftyu.Date >= 20180502) & (bniftyu.Date <=20200214)]\n",
    "bniftyu = bniftyu[bniftyu['Time'].isin(times)]\n",
    "bniftyu['Date'] = bniftyu['Date'].astype(str)\n",
    "bniftyu['Date'] = bniftyu['Date'].apply(lambda x:x[:4]+'/'+x[4:6]+'/'+x[6:])\n",
    "# missingdates = list(set(bniftyu['Date']) - set(bnifty['Date']))\n",
    "# missingdates=missingdates+['2019/04/24','2020/02/18','2020/03/13','2020/03/23']\n",
    "bniftyu = bniftyu[~bniftyu['Date'].isin(nodates)]\n",
    "bniftyu.reset_index(inplace=True)\n",
    "bniftyu.drop('index',axis=1,inplace=True)"
   ]
  },
  {
   "cell_type": "code",
   "execution_count": 416,
   "id": "5746b377",
   "metadata": {},
   "outputs": [],
   "source": [
    "csbnifty = pd.DataFrame(columns=['Strike','Date','Time','Open','High','Low','Close'])\n",
    "psbnifty = pd.DataFrame(columns=['Strike','Date','Time','Open','High','Low','Close'])\n",
    "psbnifty=bnifty.groupby(['Date','Time']).nth([3])\n",
    "csbnifty=bnifty.groupby(['Date','Time']).nth([4])\n",
    "psbnifty.reset_index(inplace=True)\n",
    "csbnifty.reset_index(inplace=True)"
   ]
  },
  {
   "cell_type": "code",
   "execution_count": 420,
   "id": "73221d95",
   "metadata": {},
   "outputs": [],
   "source": [
    "pivots = pd.DataFrame(columns=['Date','PP','BC','TC','R1','R2','R3','S1','S2','S3'])\n",
    "pivots['Date']=bniftyeod['Date'].shift(-1)\n",
    "pivots.drop(417,inplace=True)"
   ]
  },
  {
   "cell_type": "code",
   "execution_count": 421,
   "id": "bc8b7fae",
   "metadata": {},
   "outputs": [],
   "source": [
    "pivots['PP'] = (bniftyeod['High']+bniftyeod['Low']+bniftyeod['Close'])/3\n",
    "pivots['BC'] = (bniftyeod['High']+bniftyeod['Low'])/2\n",
    "pivots['TC'] = pivots['PP']-pivots['BC']+pivots['PP']\n",
    "pivots['R1'] = pivots['PP']*2-bniftyeod['Low']\n",
    "pivots['R2'] = pivots['PP'] + bniftyeod['High'] - bniftyeod['Low']\n",
    "pivots['R3'] = bniftyeod['High'] - 2*bniftyeod['Low'] + 2*pivots['PP']\n",
    "pivots['S1'] = pivots['PP']*2-bniftyeod['High']\n",
    "pivots['S2'] = pivots['PP'] - bniftyeod['High'] + bniftyeod['Low']\n",
    "pivots['S3'] = bniftyeod['Low'] - 2*bniftyeod['High'] + 2*pivots['PP']\n",
    "pivots.index = list(range(1,418))"
   ]
  },
  {
   "cell_type": "code",
   "execution_count": 467,
   "id": "54475230",
   "metadata": {},
   "outputs": [
    {
     "data": {
      "text/plain": [
       "array(['09:20', '09:25', '09:30', ..., '15:15', '15:20', '15:25'],\n",
       "      dtype=object)"
      ]
     },
     "execution_count": 467,
     "metadata": {},
     "output_type": "execute_result"
    }
   ],
   "source": [
    "bniftyu['Time'].values"
   ]
  },
  {
   "cell_type": "code",
   "execution_count": 468,
   "id": "ecc75636",
   "metadata": {},
   "outputs": [
    {
     "name": "stdout",
     "output_type": "stream",
     "text": [
      "Date: 2018/07/18  Target: ₹27288.73  Stoploss: ₹27107.35  Stoploss hit!\n",
      "Date: 2018/08/17  Target: ₹28106.65  Stoploss: ₹27991.75  Stoploss hit!\n",
      "Date: 2018/11/06  Target: ₹25938.73  Stoploss: ₹25747.40  Stoploss hit!\n"
     ]
    },
    {
     "ename": "KeyboardInterrupt",
     "evalue": "",
     "output_type": "error",
     "traceback": [
      "\u001b[1;31m---------------------------------------------------------------------------\u001b[0m",
      "\u001b[1;31mKeyboardInterrupt\u001b[0m                         Traceback (most recent call last)",
      "Input \u001b[1;32mIn [468]\u001b[0m, in \u001b[0;36m<cell line: 24>\u001b[1;34m()\u001b[0m\n\u001b[0;32m     30\u001b[0m         profit\u001b[38;5;241m=\u001b[39msell\u001b[38;5;241m-\u001b[39mbniftyu[\u001b[38;5;124m'\u001b[39m\u001b[38;5;124mOpen\u001b[39m\u001b[38;5;124m'\u001b[39m][(i\u001b[38;5;241m+\u001b[39ma)\u001b[38;5;241m*\u001b[39m\u001b[38;5;241m74\u001b[39m]\n\u001b[0;32m     31\u001b[0m \u001b[38;5;28;01melif\u001b[39;00m bniftyu[\u001b[38;5;124m'\u001b[39m\u001b[38;5;124mOpen\u001b[39m\u001b[38;5;124m'\u001b[39m][(i\u001b[38;5;241m+\u001b[39ma)\u001b[38;5;241m*\u001b[39m\u001b[38;5;241m74\u001b[39m]\u001b[38;5;241m>\u001b[39mpivots[\u001b[38;5;124m'\u001b[39m\u001b[38;5;124mR1\u001b[39m\u001b[38;5;124m'\u001b[39m][i\u001b[38;5;241m+\u001b[39ma] \u001b[38;5;129;01mand\u001b[39;00m bniftyu[\u001b[38;5;124m'\u001b[39m\u001b[38;5;124mOpen\u001b[39m\u001b[38;5;124m'\u001b[39m][(i\u001b[38;5;241m+\u001b[39ma)\u001b[38;5;241m*\u001b[39m\u001b[38;5;241m74\u001b[39m]\u001b[38;5;241m<\u001b[39m(pivots[\u001b[38;5;124m'\u001b[39m\u001b[38;5;124mR2\u001b[39m\u001b[38;5;124m'\u001b[39m][i\u001b[38;5;241m+\u001b[39ma]\u001b[38;5;241m-\u001b[39mtgt1):\n\u001b[1;32m---> 32\u001b[0m         sell\u001b[38;5;241m=\u001b[39m\u001b[43mbuy\u001b[49m\u001b[43m(\u001b[49m\u001b[43mbniftyu\u001b[49m\u001b[43m[\u001b[49m\u001b[38;5;124;43m'\u001b[39;49m\u001b[38;5;124;43mDate\u001b[39;49m\u001b[38;5;124;43m'\u001b[39;49m\u001b[43m]\u001b[49m\u001b[43m[\u001b[49m\u001b[43m(\u001b[49m\u001b[43mi\u001b[49m\u001b[38;5;241;43m+\u001b[39;49m\u001b[43ma\u001b[49m\u001b[43m)\u001b[49m\u001b[38;5;241;43m*\u001b[39;49m\u001b[38;5;241;43m74\u001b[39;49m\u001b[43m]\u001b[49m\u001b[43m,\u001b[49m\u001b[43mpivots\u001b[49m\u001b[43m[\u001b[49m\u001b[38;5;124;43m'\u001b[39;49m\u001b[38;5;124;43mR2\u001b[39;49m\u001b[38;5;124;43m'\u001b[39;49m\u001b[43m]\u001b[49m\u001b[43m[\u001b[49m\u001b[43mi\u001b[49m\u001b[38;5;241;43m+\u001b[39;49m\u001b[43ma\u001b[49m\u001b[43m]\u001b[49m\u001b[43m,\u001b[49m\u001b[43mbniftyeod\u001b[49m\u001b[43m[\u001b[49m\u001b[38;5;124;43m'\u001b[39;49m\u001b[38;5;124;43mOpen\u001b[39;49m\u001b[38;5;124;43m'\u001b[39;49m\u001b[43m]\u001b[49m\u001b[43m[\u001b[49m\u001b[43mi\u001b[49m\u001b[38;5;241;43m+\u001b[39;49m\u001b[43ma\u001b[49m\u001b[43m]\u001b[49m\u001b[43m)\u001b[49m\n\u001b[0;32m     33\u001b[0m         profit\u001b[38;5;241m=\u001b[39msell\u001b[38;5;241m-\u001b[39mbniftyu[\u001b[38;5;124m'\u001b[39m\u001b[38;5;124mOpen\u001b[39m\u001b[38;5;124m'\u001b[39m][(i\u001b[38;5;241m+\u001b[39ma)\u001b[38;5;241m*\u001b[39m\u001b[38;5;241m74\u001b[39m]\n\u001b[0;32m     34\u001b[0m \u001b[38;5;28;01melif\u001b[39;00m bniftyu[\u001b[38;5;124m'\u001b[39m\u001b[38;5;124mOpen\u001b[39m\u001b[38;5;124m'\u001b[39m][(i\u001b[38;5;241m+\u001b[39ma)\u001b[38;5;241m*\u001b[39m\u001b[38;5;241m74\u001b[39m]\u001b[38;5;241m>\u001b[39m\u001b[38;5;28mmax\u001b[39m(pivots[\u001b[38;5;124m'\u001b[39m\u001b[38;5;124mBC\u001b[39m\u001b[38;5;124m'\u001b[39m][i\u001b[38;5;241m+\u001b[39ma],pivots[\u001b[38;5;124m'\u001b[39m\u001b[38;5;124mTC\u001b[39m\u001b[38;5;124m'\u001b[39m][i\u001b[38;5;241m+\u001b[39ma]) \u001b[38;5;129;01mand\u001b[39;00m bniftyu[\u001b[38;5;124m'\u001b[39m\u001b[38;5;124mOpen\u001b[39m\u001b[38;5;124m'\u001b[39m][(i\u001b[38;5;241m+\u001b[39ma)\u001b[38;5;241m*\u001b[39m\u001b[38;5;241m74\u001b[39m]\u001b[38;5;241m<\u001b[39m(pivots[\u001b[38;5;124m'\u001b[39m\u001b[38;5;124mR1\u001b[39m\u001b[38;5;124m'\u001b[39m][i\u001b[38;5;241m+\u001b[39ma]\u001b[38;5;241m-\u001b[39m\u001b[38;5;241m100\u001b[39m):\n",
      "Input \u001b[1;32mIn [468]\u001b[0m, in \u001b[0;36mbuy\u001b[1;34m(d, tgt, sl)\u001b[0m\n\u001b[0;32m      1\u001b[0m \u001b[38;5;28;01mdef\u001b[39;00m \u001b[38;5;21mbuy\u001b[39m(d,tgt,sl):\n\u001b[0;32m      2\u001b[0m     \u001b[38;5;28;01mfor\u001b[39;00m k \u001b[38;5;129;01min\u001b[39;00m bniftyu[\u001b[38;5;124m'\u001b[39m\u001b[38;5;124mTime\u001b[39m\u001b[38;5;124m'\u001b[39m]\u001b[38;5;241m.\u001b[39mvalues:\n\u001b[1;32m----> 3\u001b[0m         \u001b[38;5;28;01mif\u001b[39;00m ((bniftyu[(bniftyu[\u001b[38;5;124m'\u001b[39m\u001b[38;5;124mDate\u001b[39m\u001b[38;5;124m'\u001b[39m]\u001b[38;5;241m==\u001b[39md) \u001b[38;5;241m&\u001b[39m (\u001b[43mbniftyu\u001b[49m\u001b[43m[\u001b[49m\u001b[38;5;124;43m'\u001b[39;49m\u001b[38;5;124;43mTime\u001b[39;49m\u001b[38;5;124;43m'\u001b[39;49m\u001b[43m]\u001b[49m\u001b[38;5;241;43m==\u001b[39;49m\u001b[43mk\u001b[49m)][\u001b[38;5;124m'\u001b[39m\u001b[38;5;124mClose\u001b[39m\u001b[38;5;124m'\u001b[39m]\u001b[38;5;241m-\u001b[39msl)\u001b[38;5;241m<\u001b[39m\u001b[38;5;241m5\u001b[39m)\u001b[38;5;241m.\u001b[39miloc[\u001b[38;5;241m0\u001b[39m]:\n\u001b[0;32m      4\u001b[0m             \u001b[38;5;28mprint\u001b[39m(\u001b[38;5;124m'\u001b[39m\u001b[38;5;124mDate: \u001b[39m\u001b[38;5;132;01m{}\u001b[39;00m\u001b[38;5;124m  Target: ₹\u001b[39m\u001b[38;5;132;01m{:.2f}\u001b[39;00m\u001b[38;5;124m  Stoploss: ₹\u001b[39m\u001b[38;5;132;01m{:.2f}\u001b[39;00m\u001b[38;5;124m  Stoploss hit!\u001b[39m\u001b[38;5;124m'\u001b[39m\u001b[38;5;241m.\u001b[39mformat(d,tgt,sl))\n\u001b[0;32m      5\u001b[0m             \u001b[38;5;28;01mreturn\u001b[39;00m sl\n",
      "File \u001b[1;32mD:\\Adithya_epg1\\python\\anaconda\\envs\\pyfinance\\lib\\site-packages\\pandas\\core\\ops\\common.py:70\u001b[0m, in \u001b[0;36m_unpack_zerodim_and_defer.<locals>.new_method\u001b[1;34m(self, other)\u001b[0m\n\u001b[0;32m     66\u001b[0m             \u001b[38;5;28;01mreturn\u001b[39;00m \u001b[38;5;28mNotImplemented\u001b[39m\n\u001b[0;32m     68\u001b[0m other \u001b[38;5;241m=\u001b[39m item_from_zerodim(other)\n\u001b[1;32m---> 70\u001b[0m \u001b[38;5;28;01mreturn\u001b[39;00m \u001b[43mmethod\u001b[49m\u001b[43m(\u001b[49m\u001b[38;5;28;43mself\u001b[39;49m\u001b[43m,\u001b[49m\u001b[43m \u001b[49m\u001b[43mother\u001b[49m\u001b[43m)\u001b[49m\n",
      "File \u001b[1;32mD:\\Adithya_epg1\\python\\anaconda\\envs\\pyfinance\\lib\\site-packages\\pandas\\core\\arraylike.py:40\u001b[0m, in \u001b[0;36mOpsMixin.__eq__\u001b[1;34m(self, other)\u001b[0m\n\u001b[0;32m     38\u001b[0m \u001b[38;5;129m@unpack_zerodim_and_defer\u001b[39m(\u001b[38;5;124m\"\u001b[39m\u001b[38;5;124m__eq__\u001b[39m\u001b[38;5;124m\"\u001b[39m)\n\u001b[0;32m     39\u001b[0m \u001b[38;5;28;01mdef\u001b[39;00m \u001b[38;5;21m__eq__\u001b[39m(\u001b[38;5;28mself\u001b[39m, other):\n\u001b[1;32m---> 40\u001b[0m     \u001b[38;5;28;01mreturn\u001b[39;00m \u001b[38;5;28;43mself\u001b[39;49m\u001b[38;5;241;43m.\u001b[39;49m\u001b[43m_cmp_method\u001b[49m\u001b[43m(\u001b[49m\u001b[43mother\u001b[49m\u001b[43m,\u001b[49m\u001b[43m \u001b[49m\u001b[43moperator\u001b[49m\u001b[38;5;241;43m.\u001b[39;49m\u001b[43meq\u001b[49m\u001b[43m)\u001b[49m\n",
      "File \u001b[1;32mD:\\Adithya_epg1\\python\\anaconda\\envs\\pyfinance\\lib\\site-packages\\pandas\\core\\series.py:5623\u001b[0m, in \u001b[0;36mSeries._cmp_method\u001b[1;34m(self, other, op)\u001b[0m\n\u001b[0;32m   5620\u001b[0m rvalues \u001b[38;5;241m=\u001b[39m extract_array(other, extract_numpy\u001b[38;5;241m=\u001b[39m\u001b[38;5;28;01mTrue\u001b[39;00m, extract_range\u001b[38;5;241m=\u001b[39m\u001b[38;5;28;01mTrue\u001b[39;00m)\n\u001b[0;32m   5622\u001b[0m \u001b[38;5;28;01mwith\u001b[39;00m np\u001b[38;5;241m.\u001b[39merrstate(\u001b[38;5;28mall\u001b[39m\u001b[38;5;241m=\u001b[39m\u001b[38;5;124m\"\u001b[39m\u001b[38;5;124mignore\u001b[39m\u001b[38;5;124m\"\u001b[39m):\n\u001b[1;32m-> 5623\u001b[0m     res_values \u001b[38;5;241m=\u001b[39m \u001b[43mops\u001b[49m\u001b[38;5;241;43m.\u001b[39;49m\u001b[43mcomparison_op\u001b[49m\u001b[43m(\u001b[49m\u001b[43mlvalues\u001b[49m\u001b[43m,\u001b[49m\u001b[43m \u001b[49m\u001b[43mrvalues\u001b[49m\u001b[43m,\u001b[49m\u001b[43m \u001b[49m\u001b[43mop\u001b[49m\u001b[43m)\u001b[49m\n\u001b[0;32m   5625\u001b[0m \u001b[38;5;28;01mreturn\u001b[39;00m \u001b[38;5;28mself\u001b[39m\u001b[38;5;241m.\u001b[39m_construct_result(res_values, name\u001b[38;5;241m=\u001b[39mres_name)\n",
      "File \u001b[1;32mD:\\Adithya_epg1\\python\\anaconda\\envs\\pyfinance\\lib\\site-packages\\pandas\\core\\ops\\array_ops.py:283\u001b[0m, in \u001b[0;36mcomparison_op\u001b[1;34m(left, right, op)\u001b[0m\n\u001b[0;32m    280\u001b[0m     \u001b[38;5;28;01mreturn\u001b[39;00m invalid_comparison(lvalues, rvalues, op)\n\u001b[0;32m    282\u001b[0m \u001b[38;5;28;01melif\u001b[39;00m is_object_dtype(lvalues\u001b[38;5;241m.\u001b[39mdtype) \u001b[38;5;129;01mor\u001b[39;00m \u001b[38;5;28misinstance\u001b[39m(rvalues, \u001b[38;5;28mstr\u001b[39m):\n\u001b[1;32m--> 283\u001b[0m     res_values \u001b[38;5;241m=\u001b[39m \u001b[43mcomp_method_OBJECT_ARRAY\u001b[49m\u001b[43m(\u001b[49m\u001b[43mop\u001b[49m\u001b[43m,\u001b[49m\u001b[43m \u001b[49m\u001b[43mlvalues\u001b[49m\u001b[43m,\u001b[49m\u001b[43m \u001b[49m\u001b[43mrvalues\u001b[49m\u001b[43m)\u001b[49m\n\u001b[0;32m    285\u001b[0m \u001b[38;5;28;01melse\u001b[39;00m:\n\u001b[0;32m    286\u001b[0m     res_values \u001b[38;5;241m=\u001b[39m _na_arithmetic_op(lvalues, rvalues, op, is_cmp\u001b[38;5;241m=\u001b[39m\u001b[38;5;28;01mTrue\u001b[39;00m)\n",
      "File \u001b[1;32mD:\\Adithya_epg1\\python\\anaconda\\envs\\pyfinance\\lib\\site-packages\\pandas\\core\\ops\\array_ops.py:74\u001b[0m, in \u001b[0;36mcomp_method_OBJECT_ARRAY\u001b[1;34m(op, x, y)\u001b[0m\n\u001b[0;32m     72\u001b[0m \u001b[38;5;28;01melse\u001b[39;00m:\n\u001b[0;32m     73\u001b[0m     result \u001b[38;5;241m=\u001b[39m libops\u001b[38;5;241m.\u001b[39mscalar_compare(x\u001b[38;5;241m.\u001b[39mravel(), y, op)\n\u001b[1;32m---> 74\u001b[0m \u001b[38;5;28;01mreturn\u001b[39;00m \u001b[43mresult\u001b[49m\u001b[38;5;241;43m.\u001b[39;49m\u001b[43mreshape\u001b[49m\u001b[43m(\u001b[49m\u001b[43mx\u001b[49m\u001b[38;5;241;43m.\u001b[39;49m\u001b[43mshape\u001b[49m\u001b[43m)\u001b[49m\n",
      "\u001b[1;31mKeyboardInterrupt\u001b[0m: "
     ]
    }
   ],
   "source": [
    "def buy(d,tgt,sl):\n",
    "    for k in bniftyu['Time'].values:\n",
    "        if ((bniftyu[(bniftyu['Date']==d) & (bniftyu['Time']==k)]['Close']-sl)<5).iloc[0]:\n",
    "            print('Date: {}  Target: ₹{:.2f}  Stoploss: ₹{:.2f}  Stoploss hit!'.format(d,tgt,sl))\n",
    "            return sl\n",
    "        if ((bniftyu[(bniftyu['Date']==d) & (bniftyu['Time']==k)]['Close']-tgt)>5).iloc[0]:\n",
    "            print('Date: {}  Target: ₹{:.2f}  Stoploss: ₹{:.2f}  Target hit!'.format(d,tgt,sl))\n",
    "            return tgt\n",
    "    print('Date: {}  Target: ₹{:.2f}  Stoploss: ₹{:.2f}  Time out!'.format(d,tgt,sl))\n",
    "    return (bniftyu[(bniftyu['Date']==d) & (bniftyu['Time']==k)]['Close']).iloc[0]\n",
    "\n",
    "flag=0\n",
    "profit=0\n",
    "loss=0\n",
    "a=0\n",
    "ini=100000\n",
    "balance=ini\n",
    "minbalance=ini\n",
    "maxbalance=0\n",
    "bal=[]\n",
    "tgt1=75\n",
    "sl1=20\n",
    "c=0\n",
    "for i,ii in zip(range(1,bniftyu.Date.nunique()),tqdm(range(1,bniftyu.Date.nunique()))):\n",
    "    bal.append(balance)\n",
    "    n=int(balance/bniftyeod['Open'][i+a])\n",
    "    if bniftyu['Open'][(i+a)*74]>bniftyeod['High'][i+a-1] and bniftyu['Open'][(i+a)*74]>(bniftyeod['Open'][i+a]+sl1):\n",
    "        if bniftyu['Open'][(i+a)*74]>pivots['R2'][i+a] and bniftyu['Open'][(i+a)*74]<(pivots['R3'][i+a]-tgt1):\n",
    "                sell=buy(bniftyu['Date'][(i+a)*74],pivots['R3'][i+a],bniftyeod['Open'][i+a])\n",
    "                profit=sell-bniftyu['Open'][(i+a)*74]\n",
    "        elif bniftyu['Open'][(i+a)*74]>pivots['R1'][i+a] and bniftyu['Open'][(i+a)*74]<(pivots['R2'][i+a]-tgt1):\n",
    "                sell=buy(bniftyu['Date'][(i+a)*74],pivots['R2'][i+a],bniftyeod['Open'][i+a])\n",
    "                profit=sell-bniftyu['Open'][(i+a)*74]\n",
    "        elif bniftyu['Open'][(i+a)*74]>max(pivots['BC'][i+a],pivots['TC'][i+a]) and bniftyu['Open'][(i+a)*74]<(pivots['R1'][i+a]-100):\n",
    "                sell=buy(bniftyu['Date'][(i+a)*74],pivots['R1'][i+a],bniftyeod['Open'][i+a])\n",
    "                profit=sell-bniftyu['Open'][(i+a)*74]  \n",
    "#     if bniftyu['Open'][(i+a)*74]>bniftyeod['High'][i+a-1] and bniftyu['Open'][(i+a)*74]>(bniftyeod['Open'][i+a]+sl1):\n",
    "#         if bniftyu['Open'][(i+a)*74]>pivots['R2'][i+a] and bniftyu['Open'][(i+a)*74]<(pivots['R3'][i+a]-tgt1):\n",
    "#             if (bniftyu['Open'][(i+a)*74]-pivots['R2'][i+a])<20:\n",
    "#                 sell=buy(bniftyu['Date'][(i+a)*74],pivots['R3'][i+a],bniftyeod['Open'][i+a])\n",
    "#                 profit=sell-bniftyu['Open'][(i+a)*74]\n",
    "#         elif bniftyu['Open'][(i+a)*74]>pivots['R1'][i+a] and bniftyu['Open'][(i+a)*74]<(pivots['R2'][i+a]-tgt1):\n",
    "#             if (bniftyu['Open'][(i+a)*74]-pivots['R1'][i+a])<20:\n",
    "#                 sell=buy(bniftyu['Date'][(i+a)*74],pivots['R2'][i+a],bniftyeod['Open'][i+a])\n",
    "#                 profit=sell-bniftyu['Open'][(i+a)*74]\n",
    "#         elif bniftyu['Open'][(i+a)*74]>max(pivots['BC'][i+a],pivots['TC'][i+a]) and bniftyu['Open'][(i+a)*74]<(pivots['R1'][i+a]-100):\n",
    "#             if (bniftyu['Open'][(i+a)*74]-max(pivots['BC'][i+a],pivots['TC'][i+a]))<20:\n",
    "#                 sell=buy(bniftyu['Date'][(i+a)*74],pivots['R1'][i+a],bniftyeod['Open'][i+a])\n",
    "#                 profit=sell-bniftyu['Open'][(i+a)*74]  \n",
    "    balance=balance+n*profit\n",
    "    if balance<0:\n",
    "        print(\"Total Loss\")\n",
    "        break\n",
    "    if balance>=maxbalance:\n",
    "        maxbalance=balance\n",
    "    if balance<minbalance:\n",
    "        minbalance=balance\n",
    "        #print(\"buy on \",str(bnifty['Date'][i+a])[:11])\n",
    "#     if flag==1 and bnifty['Close'][i+a]<bnifty['Close'].rolling(20).mean()[i+a]:\n",
    "#         sell=bnifty['Close'][i+a]\n",
    "#         #print(\"sell on \",str(bnifty['Date'][i+a])[:11])\n",
    "#         flag=2\n",
    "#     if flag==2:\n",
    "#         if sell>=buy:\n",
    "#             balance=balance+n*5*(sell-buy)\n",
    "#             #print(\"Profit of ₹{:.2f} with {:.2f}% on {} for bnifty50 price {}\".format(n*(sell-buy),500*(sell-buy)/buy,str(bnifty['Date'][i+a])[:11],bnifty['Close'][i+a]))\n",
    "#         else:\n",
    "#             balance=balance-n*5*(buy-sell)\n",
    "#             #print(\"Loss of ₹{:.2f} with {:.3f}% on {} for bnifty50 price {}\".format(n*(buy-sell),500*(buy-sell)/buy,str(bnifty['Date'][i+a])[:11],bnifty['Close'][i+a]))\n",
    "#         flag=0\n",
    "#         if balance>=maxbalance:\n",
    "#             maxbalance=balance\n",
    "#         else:\n",
    "#             minbalance=balance\n",
    "#     if balance<0:\n",
    "#         print(\"Total Loss\")\n",
    "#         break\n",
    "res=(balance-ini)/ini\n",
    "print('Total count :',c,'out of ',bniftyu.Date.nunique(),' days')\n",
    "if balance>=ini:\n",
    "    print(\"Final Balance is ₹{:.2f} with return of {:.2f}%\".format(balance,res*100))\n",
    "else:\n",
    "    print(\"Final Balance is ₹{:.2f} with a loss of {:.2f} at {:.2f}%\".format(balance,ini-balance,100*(ini-balance)/ini))\n",
    "bal = [x * 0.3 for x in bal]\n",
    "#ren=(bnifty['Close'][i+a]-bnifty['Close'][a])/bnifty['Close'][a]\n",
    "#print(\"bnifty Return for the while is {:.2f}% with cagr of {:.2f}%\".format(100*ren,(10**(math.log((1+ren),10)/(2022-startyear))-1)*100))\n",
    "print(\"Minimum Balance was ₹{:.2f} and Maximum Balance was ₹{:.2f}\".format(minbalance,maxbalance))"
   ]
  },
  {
   "cell_type": "code",
   "execution_count": 447,
   "id": "5d90e52f",
   "metadata": {},
   "outputs": [
    {
     "data": {
      "text/html": [
       "<div>\n",
       "<style scoped>\n",
       "    .dataframe tbody tr th:only-of-type {\n",
       "        vertical-align: middle;\n",
       "    }\n",
       "\n",
       "    .dataframe tbody tr th {\n",
       "        vertical-align: top;\n",
       "    }\n",
       "\n",
       "    .dataframe thead th {\n",
       "        text-align: right;\n",
       "    }\n",
       "</style>\n",
       "<table border=\"1\" class=\"dataframe\">\n",
       "  <thead>\n",
       "    <tr style=\"text-align: right;\">\n",
       "      <th></th>\n",
       "      <th>Date</th>\n",
       "      <th>Open</th>\n",
       "      <th>High</th>\n",
       "      <th>Low</th>\n",
       "      <th>Close</th>\n",
       "    </tr>\n",
       "  </thead>\n",
       "  <tbody>\n",
       "    <tr>\n",
       "      <th>410</th>\n",
       "      <td>2020/02/04</td>\n",
       "      <td>30235.30</td>\n",
       "      <td>30776.95</td>\n",
       "      <td>30182.45</td>\n",
       "      <td>30686.70</td>\n",
       "    </tr>\n",
       "    <tr>\n",
       "      <th>411</th>\n",
       "      <td>2020/02/05</td>\n",
       "      <td>30761.95</td>\n",
       "      <td>31065.85</td>\n",
       "      <td>30630.85</td>\n",
       "      <td>31001.95</td>\n",
       "    </tr>\n",
       "  </tbody>\n",
       "</table>\n",
       "</div>"
      ],
      "text/plain": [
       "           Date      Open      High       Low     Close\n",
       "410  2020/02/04  30235.30  30776.95  30182.45  30686.70\n",
       "411  2020/02/05  30761.95  31065.85  30630.85  31001.95"
      ]
     },
     "execution_count": 447,
     "metadata": {},
     "output_type": "execute_result"
    }
   ],
   "source": [
    "bniftyeod[(bniftyeod['Date']=='2020/02/05') | (bniftyeod['Date']=='2020/02/04')]"
   ]
  },
  {
   "cell_type": "code",
   "execution_count": 430,
   "id": "54e6e01d",
   "metadata": {},
   "outputs": [],
   "source": [
    "plotbnifty=bniftyeod.copy()\n",
    "plotbnifty['Date'] = pd.to_datetime(plotbnifty.Date)\n",
    "plotbnifty['Date'] = plotbnifty['Date'].apply(mpl_dates.date2num)\n",
    "plotbnifty=plotbnifty.iloc[1:,:]\n",
    "plotbnifty.reset_index(inplace=True)\n",
    "plotbnifty.drop('index',axis=1,inplace=True)"
   ]
  },
  {
   "cell_type": "code",
   "execution_count": 431,
   "id": "72c03db2",
   "metadata": {},
   "outputs": [
    {
     "data": {
      "image/png": "[encoded data removed]",
      "text/plain": [
       "<Figure size 1080x360 with 1 Axes>"
      ]
     },
     "metadata": {
      "needs_background": "light"
     },
     "output_type": "display_data"
    }
   ],
   "source": [
    "# Creating Subplots\n",
    "fig, ax = plt.subplots(figsize=(15,5))\n",
    "\n",
    "candlestick_ohlc(ax, plotbnifty.values, width=0.6, colorup='green', colordown='red', alpha=0.8)\n",
    "plt.plot(plotbnifty['Date'],bal)\n",
    "# plt.plot(bnifty[a:]['Date'], bal,'k')\n",
    "# plt.plot(bnifty[a:]['Date'], bnifty[a:]['sma'])\n",
    "# Setting labels & titles\n",
    "ax.set_xlabel('Date')\n",
    "ax.set_ylabel('Price')\n",
    "fig.suptitle('Daily Candlestick Chart of bnifty')\n",
    "\n",
    "# Formatting Date\n",
    "date_format = mpl_dates.DateFormatter('%d-%m-%Y')\n",
    "ax.xaxis.set_major_formatter(date_format)\n",
    "fig.autofmt_xdate()\n",
    "\n",
    "#fig.tight_layout()len(bal)"
   ]
  },
  {
   "cell_type": "code",
   "execution_count": null,
   "id": "def2e7d8",
   "metadata": {},
   "outputs": [],
   "source": []
  }
 ],
 "metadata": {
  "kernelspec": {
   "display_name": "Python 3 (ipykernel)",
   "language": "python",
   "name": "python3"
  },
  "language_info": {
   "codemirror_mode": {
    "name": "ipython",
    "version": 3
   },
   "file_extension": ".py",
   "mimetype": "text/x-python",
   "name": "python",
   "nbconvert_exporter": "python",
   "pygments_lexer": "ipython3",
   "version": "3.10.4"
  }
 },
 "nbformat": 4,
 "nbformat_minor": 5
}
