{
 "cells": [
  {
   "cell_type": "code",
   "execution_count": 1,
   "id": "0ab46831",
   "metadata": {},
   "outputs": [],
   "source": [
    "import mplfinance as mpf\n",
    "import matplotlib.dates as mpl_dates\n",
    "import math\n",
    "from IPython.display import clear_output\n",
    "import warnings\n",
    "warnings.simplefilter(action='ignore', category=FutureWarning)\n",
    "warnings.filterwarnings(\"ignore\")\n",
    "import numpy as np\n",
    "import pandas as pd\n",
    "import matplotlib.pyplot as plt\n",
    "from datetime import datetime\n",
    "%matplotlib inline\n",
    "pd.options.mode.chained_assignment = None"
   ]
  },
  {
   "cell_type": "code",
   "execution_count": 92,
   "id": "7bbd24cd",
   "metadata": {},
   "outputs": [],
   "source": [
    "nifty= pd.read_csv('NIFTY50_SEMI_CLEANED.csv')\n",
    "#nifty5['EMA']=nifty5['Close'].ewm(span=5, adjust=False).mean()"
   ]
  },
  {
   "cell_type": "code",
   "execution_count": 103,
   "id": "79e94fce",
   "metadata": {},
   "outputs": [],
   "source": [
    "nifty.to_csv('CLEANED.csv')"
   ]
  },
  {
   "cell_type": "code",
   "execution_count": 101,
   "id": "41b17727",
   "metadata": {},
   "outputs": [
    {
     "name": "stdout",
     "output_type": "stream",
     "text": [
      "['12-01-2015' '13-01-2015' '14-01-2015' ... '19-10-2022' '20-10-2022'\n",
      " '21-10-2022']\n",
      "1807\n"
     ]
    }
   ],
   "source": [
    "dates=nifty['Date'].unique()\n",
    "print(dates)\n",
    "print(nifty['Date'].nunique())\n"
   ]
  },
  {
   "cell_type": "code",
   "execution_count": 102,
   "id": "16fb2bf2",
   "metadata": {},
   "outputs": [],
   "source": [
    "datelist=[]\n",
    "for i in dates:\n",
    "    if list(nifty[nifty['Date']==i]['Time'])!=times:\n",
    "        datelist.append(i)\n",
    "        print(i)"
   ]
  },
  {
   "cell_type": "code",
   "execution_count": 97,
   "id": "ef63bb6a",
   "metadata": {},
   "outputs": [],
   "source": [
    "aa=list(nifty[nifty['Date'].isin(datelist)].index)\n",
    "nifty.drop(aa,inplace=True)"
   ]
  },
  {
   "cell_type": "code",
   "execution_count": 99,
   "id": "57568c51",
   "metadata": {},
   "outputs": [
    {
     "data": {
      "text/plain": [
       "602"
      ]
     },
     "execution_count": 99,
     "metadata": {},
     "output_type": "execute_result"
    }
   ],
   "source": [
    "len(aa)"
   ]
  },
  {
   "cell_type": "code",
   "execution_count": 67,
   "id": "63574355",
   "metadata": {},
   "outputs": [
    {
     "name": "stdout",
     "output_type": "stream",
     "text": [
      "same\n"
     ]
    }
   ],
   "source": [
    "if list(nifty[nifty['Date']=='20-10-2022']['Time'])==times:\n",
    "    print('same')"
   ]
  },
  {
   "cell_type": "code",
   "execution_count": null,
   "id": "8f91a8f3",
   "metadata": {},
   "outputs": [],
   "source": []
  },
  {
   "cell_type": "code",
   "execution_count": 68,
   "id": "5a91340f",
   "metadata": {},
   "outputs": [],
   "source": [
    "times=[]\n",
    "with open('timelist.txt', 'r') as fp:\n",
    "    for line in fp:\n",
    "        times.append(line[:-1])\n"
   ]
  }
 ],
 "metadata": {
  "kernelspec": {
   "display_name": "Python 3 (ipykernel)",
   "language": "python",
   "name": "python3"
  },
  "language_info": {
   "codemirror_mode": {
    "name": "ipython",
    "version": 3
   },
   "file_extension": ".py",
   "mimetype": "text/x-python",
   "name": "python",
   "nbconvert_exporter": "python",
   "pygments_lexer": "ipython3",
   "version": "3.10.4"
  }
 },
 "nbformat": 4,
 "nbformat_minor": 5
}
