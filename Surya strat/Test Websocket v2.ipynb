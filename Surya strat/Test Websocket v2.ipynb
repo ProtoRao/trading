{
 "cells": [
  {
   "cell_type": "code",
   "execution_count": 3,
   "id": "d98b5631",
   "metadata": {},
   "outputs": [
    {
     "data": {
      "text/html": [
       "<style>.container { width:100% !important; }</style>"
      ],
      "text/plain": [
       "<IPython.core.display.HTML object>"
      ]
     },
     "metadata": {},
     "output_type": "display_data"
    }
   ],
   "source": [
    "from SmartApi.smartWebSocketV2 import SmartWebSocketV2\n",
    "from logzero import logger\n",
    "from SmartApi import SmartConnect #or from smartapi.smartConnect import SmartConnect\n",
    "import xlwings as xw\n",
    "import pandas as pd\n",
    "#import talib as ta\n",
    "import pyotp\n",
    "import requests\n",
    "from IPython.display import display, HTML\n",
    "display(HTML(\"<style>.container { width:100% !important; }</style>\"))"
   ]
  },
  {
   "cell_type": "code",
   "execution_count": 9,
   "id": "6fc8fcc7",
   "metadata": {},
   "outputs": [],
   "source": [
    "df = pd.DataFrame.from_dict(requests.get('https://margincalculator.angelbroking.com/OpenAPI_File/files/OpenAPIScripMaster.json').json())"
   ]
  },
  {
   "cell_type": "code",
   "execution_count": 17,
   "id": "4d6400c5",
   "metadata": {},
   "outputs": [
    {
     "data": {
      "text/html": [
       "<div>\n",
       "<style scoped>\n",
       "    .dataframe tbody tr th:only-of-type {\n",
       "        vertical-align: middle;\n",
       "    }\n",
       "\n",
       "    .dataframe tbody tr th {\n",
       "        vertical-align: top;\n",
       "    }\n",
       "\n",
       "    .dataframe thead th {\n",
       "        text-align: right;\n",
       "    }\n",
       "</style>\n",
       "<table border=\"1\" class=\"dataframe\">\n",
       "  <thead>\n",
       "    <tr style=\"text-align: right;\">\n",
       "      <th></th>\n",
       "      <th>token</th>\n",
       "      <th>symbol</th>\n",
       "      <th>name</th>\n",
       "      <th>expiry</th>\n",
       "      <th>strike</th>\n",
       "      <th>lotsize</th>\n",
       "      <th>instrumenttype</th>\n",
       "      <th>exch_seg</th>\n",
       "      <th>tick_size</th>\n",
       "    </tr>\n",
       "  </thead>\n",
       "  <tbody>\n",
       "    <tr>\n",
       "      <th>6345</th>\n",
       "      <td>99926009</td>\n",
       "      <td>Nifty Bank</td>\n",
       "      <td>BANKNIFTY</td>\n",
       "      <td></td>\n",
       "      <td>0.000000</td>\n",
       "      <td>1</td>\n",
       "      <td>AMXIDX</td>\n",
       "      <td>NSE</td>\n",
       "      <td>0.000000</td>\n",
       "    </tr>\n",
       "  </tbody>\n",
       "</table>\n",
       "</div>"
      ],
      "text/plain": [
       "         token      symbol       name expiry    strike lotsize instrumenttype  \\\n",
       "6345  99926009  Nifty Bank  BANKNIFTY         0.000000       1         AMXIDX   \n",
       "\n",
       "     exch_seg tick_size  \n",
       "6345      NSE  0.000000  "
      ]
     },
     "execution_count": 17,
     "metadata": {},
     "output_type": "execute_result"
    }
   ],
   "source": [
    "df[(df['name']=='BANKNIFTY') & (df['exch_seg']=='NSE')]"
   ]
  },
  {
   "cell_type": "code",
   "execution_count": null,
   "id": "1c29c745",
   "metadata": {},
   "outputs": [],
   "source": [
    "fetch_nse_data('NIFTY')\n",
    "obj=SmartConnect(api_key=\"I3K6t4CS\")\n",
    "data = obj.generateSession(\"K51179152\",\"0852\",pyotp.TOTP(\"P3DKV5OFUK5JG6GDI5SVENU4IM\").now())"
   ]
  },
  {
   "cell_type": "code",
   "execution_count": null,
   "id": "1061f43c",
   "metadata": {},
   "outputs": [],
   "source": [
    "AUTH_TOKEN = data['data']['jwtToken']\n",
    "API_KEY = \"I3K6t4CS\"\n",
    "CLIENT_CODE = \"K51179152\"\n",
    "FEED_TOKEN = obj.getfeedToken()\n",
    "correlation_id = \"abc123\"\n",
    "action = 1\n",
    "mode = 1"
   ]
  },
  {
   "cell_type": "code",
   "execution_count": null,
   "id": "fbcc3e75",
   "metadata": {},
   "outputs": [],
   "source": [
    "token_list = [\n",
    "    {\n",
    "        \"exchangeType\": 1,\n",
    "        \"tokens\": [\"26000\"]\n",
    "    }\n",
    "]\n",
    "token_list1 = [\n",
    "    {\n",
    "        \"action\": 0,\n",
    "        \"exchangeType\": 1,\n",
    "        \"tokens\": [\"26009\"]\n",
    "    }\n",
    "]"
   ]
  },
  {
   "cell_type": "code",
   "execution_count": null,
   "id": "b2f0f473",
   "metadata": {},
   "outputs": [],
   "source": [
    "sws = SmartWebSocketV2(AUTH_TOKEN, API_KEY, CLIENT_CODE, FEED_TOKEN)\n",
    "\n",
    "def on_data(wsapp, message):\n",
    "    logger.info(\"Ticks: {}\".format(message))\n",
    "    # if message == '':\n",
    "    close_connection()\n",
    "    # close_connection()\n",
    "\n",
    "def on_open(wsapp):\n",
    "    logger.info(\"on open\")\n",
    "    sws.subscribe(correlation_id, mode, token_list)\n",
    "    # sws.unsubscribe(correlation_id, mode, token_list1)\n",
    "\n",
    "\n",
    "def on_error(wsapp, error):\n",
    "    logger.error(error)\n",
    "\n",
    "\n",
    "def on_close(wsapp):\n",
    "    logger.info(\"Close\")\n",
    "\n",
    "\n",
    "def close_connection():\n",
    "    sws.close_connection()\n",
    "\n",
    "\n",
    "# Assign the callbacks.\n",
    "sws.HEART_BEAT_INTERVAL = 1\n",
    "sws.on_open = on_open\n",
    "sws.on_data = on_data\n",
    "sws.on_error = on_error\n",
    "sws.on_close = on_close\n",
    "\n",
    "sws.connect()"
   ]
  }
 ],
 "metadata": {
  "kernelspec": {
   "display_name": "Python 3 (ipykernel)",
   "language": "python",
   "name": "python3"
  },
  "language_info": {
   "codemirror_mode": {
    "name": "ipython",
    "version": 3
   },
   "file_extension": ".py",
   "mimetype": "text/x-python",
   "name": "python",
   "nbconvert_exporter": "python",
   "pygments_lexer": "ipython3",
   "version": "3.10.4"
  }
 },
 "nbformat": 4,
 "nbformat_minor": 5
}
