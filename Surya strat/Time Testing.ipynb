{
 "cells": [
  {
   "cell_type": "code",
   "execution_count": 1,
   "id": "67ff20c6",
   "metadata": {},
   "outputs": [],
   "source": [
    "import pytz\n",
    "from datetime import datetime\n",
    "TIME_ZONE = pytz.timezone('Asia/Kolkata')\n",
    "TZ_INFO = datetime.now(TIME_ZONE).tzinfo"
   ]
  },
  {
   "cell_type": "code",
   "execution_count": 13,
   "id": "b97013c8",
   "metadata": {},
   "outputs": [],
   "source": [
    "test = datetime.now(TIME_ZONE)"
   ]
  },
  {
   "cell_type": "code",
   "execution_count": 14,
   "id": "3838ddb2",
   "metadata": {},
   "outputs": [],
   "source": [
    "date_list=list(test.timetuple())"
   ]
  },
  {
   "cell_type": "code",
   "execution_count": 15,
   "id": "18639b1d",
   "metadata": {},
   "outputs": [
    {
     "data": {
      "text/plain": [
       "[2023, 8, 7, 18, 57, 33, 0, 219, 0]"
      ]
     },
     "execution_count": 15,
     "metadata": {},
     "output_type": "execute_result"
    }
   ],
   "source": [
    "date_list"
   ]
  },
  {
   "cell_type": "code",
   "execution_count": 21,
   "id": "15e5ef3d",
   "metadata": {},
   "outputs": [
    {
     "data": {
      "text/plain": [
       "[19, 3]"
      ]
     },
     "execution_count": 21,
     "metadata": {},
     "output_type": "execute_result"
    }
   ],
   "source": [
    "list(datetime.now(TIME_ZONE).timetuple())[3:5]"
   ]
  },
  {
   "cell_type": "code",
   "execution_count": 8,
   "id": "861018e0",
   "metadata": {},
   "outputs": [
    {
     "data": {
      "text/plain": [
       "False"
      ]
     },
     "execution_count": 8,
     "metadata": {},
     "output_type": "execute_result"
    }
   ],
   "source": [
    "list(datetime.now(TIME_ZONE).timetuple())[3:6]==[9,15,0]"
   ]
  },
  {
   "cell_type": "code",
   "execution_count": 11,
   "id": "91bfe7db",
   "metadata": {},
   "outputs": [],
   "source": [
    "a=list(range(0,60))[::5]\n",
    "b=list(range(9,16))"
   ]
  },
  {
   "cell_type": "code",
   "execution_count": 13,
   "id": "d6d52939",
   "metadata": {},
   "outputs": [
    {
     "data": {
      "text/plain": [
       "[0, 5, 10, 15, 20, 25, 30, 35, 40, 45, 50, 55]"
      ]
     },
     "execution_count": 13,
     "metadata": {},
     "output_type": "execute_result"
    }
   ],
   "source": [
    "a"
   ]
  },
  {
   "cell_type": "code",
   "execution_count": 14,
   "id": "8c64fb94",
   "metadata": {},
   "outputs": [
    {
     "data": {
      "text/plain": [
       "[9, 10, 11, 12, 13, 14, 15]"
      ]
     },
     "execution_count": 14,
     "metadata": {},
     "output_type": "execute_result"
    }
   ],
   "source": [
    "b"
   ]
  },
  {
   "cell_type": "code",
   "execution_count": 29,
   "id": "c562a5b9",
   "metadata": {},
   "outputs": [],
   "source": [
    "c=[]\n",
    "for i in b:\n",
    "    for j in a:\n",
    "        c.append(str(i)+':'+str(j))\n",
    "c=c[3:-8]"
   ]
  },
  {
   "cell_type": "code",
   "execution_count": 30,
   "id": "bdc3cf94",
   "metadata": {},
   "outputs": [
    {
     "data": {
      "text/plain": [
       "['9:15',\n",
       " '9:20',\n",
       " '9:25',\n",
       " '9:30',\n",
       " '9:35',\n",
       " '9:40',\n",
       " '9:45',\n",
       " '9:50',\n",
       " '9:55',\n",
       " '10:0',\n",
       " '10:5',\n",
       " '10:10',\n",
       " '10:15',\n",
       " '10:20',\n",
       " '10:25',\n",
       " '10:30',\n",
       " '10:35',\n",
       " '10:40',\n",
       " '10:45',\n",
       " '10:50',\n",
       " '10:55',\n",
       " '11:0',\n",
       " '11:5',\n",
       " '11:10',\n",
       " '11:15',\n",
       " '11:20',\n",
       " '11:25',\n",
       " '11:30',\n",
       " '11:35',\n",
       " '11:40',\n",
       " '11:45',\n",
       " '11:50',\n",
       " '11:55',\n",
       " '12:0',\n",
       " '12:5',\n",
       " '12:10',\n",
       " '12:15',\n",
       " '12:20',\n",
       " '12:25',\n",
       " '12:30',\n",
       " '12:35',\n",
       " '12:40',\n",
       " '12:45',\n",
       " '12:50',\n",
       " '12:55',\n",
       " '13:0',\n",
       " '13:5',\n",
       " '13:10',\n",
       " '13:15',\n",
       " '13:20',\n",
       " '13:25',\n",
       " '13:30',\n",
       " '13:35',\n",
       " '13:40',\n",
       " '13:45',\n",
       " '13:50',\n",
       " '13:55',\n",
       " '14:0',\n",
       " '14:5',\n",
       " '14:10',\n",
       " '14:15',\n",
       " '14:20',\n",
       " '14:25',\n",
       " '14:30',\n",
       " '14:35',\n",
       " '14:40',\n",
       " '14:45',\n",
       " '14:50',\n",
       " '14:55',\n",
       " '15:0',\n",
       " '15:5',\n",
       " '15:10',\n",
       " '15:15']"
      ]
     },
     "execution_count": 30,
     "metadata": {},
     "output_type": "execute_result"
    }
   ],
   "source": [
    "c"
   ]
  },
  {
   "cell_type": "code",
   "execution_count": 31,
   "id": "42caa44a",
   "metadata": {},
   "outputs": [],
   "source": [
    "with open('listfile.txt', 'w') as filehandle:\n",
    "    for listitem in c:\n",
    "        filehandle.write(f'{listitem}\\n')"
   ]
  },
  {
   "cell_type": "code",
   "execution_count": 32,
   "id": "fc810a31",
   "metadata": {},
   "outputs": [],
   "source": [
    "d=[]\n",
    "with open('listfile.txt', 'r') as filehandle:\n",
    "    for line in filehandle:\n",
    "        d.append(line[:-1])"
   ]
  },
  {
   "cell_type": "code",
   "execution_count": 33,
   "id": "dbded847",
   "metadata": {},
   "outputs": [
    {
     "data": {
      "text/plain": [
       "['9:15',\n",
       " '9:20',\n",
       " '9:25',\n",
       " '9:30',\n",
       " '9:35',\n",
       " '9:40',\n",
       " '9:45',\n",
       " '9:50',\n",
       " '9:55',\n",
       " '10:0',\n",
       " '10:5',\n",
       " '10:10',\n",
       " '10:15',\n",
       " '10:20',\n",
       " '10:25',\n",
       " '10:30',\n",
       " '10:35',\n",
       " '10:40',\n",
       " '10:45',\n",
       " '10:50',\n",
       " '10:55',\n",
       " '11:0',\n",
       " '11:5',\n",
       " '11:10',\n",
       " '11:15',\n",
       " '11:20',\n",
       " '11:25',\n",
       " '11:30',\n",
       " '11:35',\n",
       " '11:40',\n",
       " '11:45',\n",
       " '11:50',\n",
       " '11:55',\n",
       " '12:0',\n",
       " '12:5',\n",
       " '12:10',\n",
       " '12:15',\n",
       " '12:20',\n",
       " '12:25',\n",
       " '12:30',\n",
       " '12:35',\n",
       " '12:40',\n",
       " '12:45',\n",
       " '12:50',\n",
       " '12:55',\n",
       " '13:0',\n",
       " '13:5',\n",
       " '13:10',\n",
       " '13:15',\n",
       " '13:20',\n",
       " '13:25',\n",
       " '13:30',\n",
       " '13:35',\n",
       " '13:40',\n",
       " '13:45',\n",
       " '13:50',\n",
       " '13:55',\n",
       " '14:0',\n",
       " '14:5',\n",
       " '14:10',\n",
       " '14:15',\n",
       " '14:20',\n",
       " '14:25',\n",
       " '14:30',\n",
       " '14:35',\n",
       " '14:40',\n",
       " '14:45',\n",
       " '14:50',\n",
       " '14:55',\n",
       " '15:0',\n",
       " '15:5',\n",
       " '15:10',\n",
       " '15:15']"
      ]
     },
     "execution_count": 33,
     "metadata": {},
     "output_type": "execute_result"
    }
   ],
   "source": [
    "d"
   ]
  },
  {
   "cell_type": "code",
   "execution_count": null,
   "id": "c9d6dd73",
   "metadata": {},
   "outputs": [],
   "source": []
  }
 ],
 "metadata": {
  "kernelspec": {
   "display_name": "Python 3 (ipykernel)",
   "language": "python",
   "name": "python3"
  },
  "language_info": {
   "codemirror_mode": {
    "name": "ipython",
    "version": 3
   },
   "file_extension": ".py",
   "mimetype": "text/x-python",
   "name": "python",
   "nbconvert_exporter": "python",
   "pygments_lexer": "ipython3",
   "version": "3.10.4"
  }
 },
 "nbformat": 4,
 "nbformat_minor": 5
}
