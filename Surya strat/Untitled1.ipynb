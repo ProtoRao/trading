{
 "cells": [
  {
   "cell_type": "code",
   "execution_count": 3,
   "id": "2e9321b4",
   "metadata": {},
   "outputs": [
    {
     "data": {
      "text/html": [
       "<style>.container { width:100% !important; }</style>"
      ],
      "text/plain": [
       "<IPython.core.display.HTML object>"
      ]
     },
     "metadata": {},
     "output_type": "display_data"
    }
   ],
   "source": [
    "import mplfinance as mpf\n",
    "import matplotlib.dates as mpl_dates\n",
    "import math\n",
    "from IPython.display import clear_output\n",
    "import warnings\n",
    "import time\n",
    "warnings.simplefilter(action='ignore', category=FutureWarning)\n",
    "warnings.filterwarnings(\"ignore\")\n",
    "import numpy as np\n",
    "import pandas as pd\n",
    "import matplotlib.pyplot as plt\n",
    "from datetime import datetime\n",
    "%matplotlib inline\n",
    "#%matplotlib notebook\n",
    "pd.options.mode.chained_assignment = None\n",
    "from IPython.display import display, HTML\n",
    "display(HTML(\"<style>.container { width:100% !important; }</style>\"))\n",
    "from matplotlib import cm\n",
    "from matplotlib.ticker import LinearLocator\n",
    "import matplotlib.gridspec as gridspec\n",
    "from mpl_toolkits.mplot3d import Axes3D\n",
    "import cProfile\n",
    "import pstats\n",
    "import io\n",
    "from pstats import SortKey\n",
    "import pandas_ta as ta"
   ]
  },
  {
   "cell_type": "code",
   "execution_count": 4,
   "id": "4eaef561",
   "metadata": {},
   "outputs": [],
   "source": [
    "nifty5 = pd.read_csv('NEW_Cleaned_Nifty50_5min.csv')"
   ]
  },
  {
   "cell_type": "code",
   "execution_count": 50,
   "id": "03ee43a0",
   "metadata": {},
   "outputs": [],
   "source": [
    "df=nifty5[nifty5['Date']=='12-01-2015'][::3]\n",
    "df.reset_index(inplace=True,drop=True)\n",
    "df.drop(['Date','Time'],axis=1,inplace=True)\n",
    "df = df[0:0]"
   ]
  },
  {
   "cell_type": "code",
   "execution_count": 73,
   "id": "5cd3ebc2",
   "metadata": {},
   "outputs": [],
   "source": [
    "#df.loc[0]=[19487.8,19491.45,19483.8,19486.6]\n",
    "df.loc[0]=[0,0,2000000,0]\n",
    "#df.loc[1]=[19486.6,19487.55,19478.65,19485.65]\n",
    "df.loc[1]=[0,0,2000000,0]\n",
    "#df.loc[2]=[19485.65,19492.5,19484.85,19488.25]\n",
    "df.loc[2]=[0,0,2000000,0]\n",
    "#df.loc[3]=[19488.25,19499.5,19485.55,19498.65]\n",
    "df.loc[3]=[0,0,2000000,0]\n",
    "# df.loc[4]=[19498.65,19503.45,19493.75,19502.55]\n",
    "df.loc[5]=[19596.8,19618.55,19596.8,19616.35]"
   ]
  },
  {
   "cell_type": "code",
   "execution_count": 74,
   "id": "ac580498",
   "metadata": {},
   "outputs": [
    {
     "data": {
      "text/html": [
       "<div>\n",
       "<style scoped>\n",
       "    .dataframe tbody tr th:only-of-type {\n",
       "        vertical-align: middle;\n",
       "    }\n",
       "\n",
       "    .dataframe tbody tr th {\n",
       "        vertical-align: top;\n",
       "    }\n",
       "\n",
       "    .dataframe thead th {\n",
       "        text-align: right;\n",
       "    }\n",
       "</style>\n",
       "<table border=\"1\" class=\"dataframe\">\n",
       "  <thead>\n",
       "    <tr style=\"text-align: right;\">\n",
       "      <th></th>\n",
       "      <th>SUPERT_1_2.0</th>\n",
       "      <th>SUPERTd_1_2.0</th>\n",
       "      <th>SUPERTl_1_2.0</th>\n",
       "      <th>SUPERTs_1_2.0</th>\n",
       "    </tr>\n",
       "  </thead>\n",
       "  <tbody>\n",
       "    <tr>\n",
       "      <th>0</th>\n",
       "      <td>0.000</td>\n",
       "      <td>1</td>\n",
       "      <td>NaN</td>\n",
       "      <td>NaN</td>\n",
       "    </tr>\n",
       "    <tr>\n",
       "      <th>1</th>\n",
       "      <td>-3000000.000</td>\n",
       "      <td>1</td>\n",
       "      <td>-3000000.000</td>\n",
       "      <td>NaN</td>\n",
       "    </tr>\n",
       "    <tr>\n",
       "      <th>2</th>\n",
       "      <td>-3000000.000</td>\n",
       "      <td>1</td>\n",
       "      <td>-3000000.000</td>\n",
       "      <td>NaN</td>\n",
       "    </tr>\n",
       "    <tr>\n",
       "      <th>3</th>\n",
       "      <td>-3000000.000</td>\n",
       "      <td>1</td>\n",
       "      <td>-3000000.000</td>\n",
       "      <td>NaN</td>\n",
       "    </tr>\n",
       "    <tr>\n",
       "      <th>4</th>\n",
       "      <td>-19508.300</td>\n",
       "      <td>1</td>\n",
       "      <td>-19508.300</td>\n",
       "      <td>NaN</td>\n",
       "    </tr>\n",
       "    <tr>\n",
       "      <th>5</th>\n",
       "      <td>19375.675</td>\n",
       "      <td>1</td>\n",
       "      <td>19375.675</td>\n",
       "      <td>NaN</td>\n",
       "    </tr>\n",
       "  </tbody>\n",
       "</table>\n",
       "</div>"
      ],
      "text/plain": [
       "   SUPERT_1_2.0  SUPERTd_1_2.0  SUPERTl_1_2.0  SUPERTs_1_2.0\n",
       "0         0.000              1            NaN            NaN\n",
       "1  -3000000.000              1   -3000000.000            NaN\n",
       "2  -3000000.000              1   -3000000.000            NaN\n",
       "3  -3000000.000              1   -3000000.000            NaN\n",
       "4    -19508.300              1     -19508.300            NaN\n",
       "5     19375.675              1      19375.675            NaN"
      ]
     },
     "execution_count": 74,
     "metadata": {},
     "output_type": "execute_result"
    }
   ],
   "source": [
    "b=len(df)\n",
    "ta.supertrend(df['High'][:b], df['Low'][:b], df['Close'][:b],length=1,multiplier=2)"
   ]
  },
  {
   "cell_type": "code",
   "execution_count": null,
   "id": "79f7454e",
   "metadata": {},
   "outputs": [],
   "source": []
  }
 ],
 "metadata": {
  "kernelspec": {
   "display_name": "Python 3 (ipykernel)",
   "language": "python",
   "name": "python3"
  },
  "language_info": {
   "codemirror_mode": {
    "name": "ipython",
    "version": 3
   },
   "file_extension": ".py",
   "mimetype": "text/x-python",
   "name": "python",
   "nbconvert_exporter": "python",
   "pygments_lexer": "ipython3",
   "version": "3.10.4"
  }
 },
 "nbformat": 4,
 "nbformat_minor": 5
}
